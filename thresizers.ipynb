{
 "cells": [
  {
   "cell_type": "code",
   "execution_count": 1,
   "metadata": {},
   "outputs": [],
   "source": [
    "%matplotlib inline\n",
    "%reload_ext autoreload\n",
    "%autoreload 2"
   ]
  },
  {
   "cell_type": "code",
   "execution_count": 136,
   "metadata": {},
   "outputs": [],
   "source": [
    "from fastai.conv_learner import *\n",
    "from torchvision import datasets, transforms, utils\n",
    "from pathlib import Path\n",
    "\n",
    "import warnings"
   ]
  },
  {
   "cell_type": "code",
   "execution_count": 3,
   "metadata": {},
   "outputs": [],
   "source": [
    "PATH = Path('fastai/data/cifar10')\n",
    "PATH_TRN = Path('fastai/data/cifar10/train/')"
   ]
  },
  {
   "cell_type": "code",
   "execution_count": 44,
   "metadata": {},
   "outputs": [
    {
     "data": {
      "text/plain": [
       "[PosixPath('fastai/data/cifar10/train/automobile'),\n",
       " PosixPath('fastai/data/cifar10/train/airplane'),\n",
       " PosixPath('fastai/data/cifar10/train/cat'),\n",
       " PosixPath('fastai/data/cifar10/train/deer'),\n",
       " PosixPath('fastai/data/cifar10/train/ship'),\n",
       " PosixPath('fastai/data/cifar10/train/horse'),\n",
       " PosixPath('fastai/data/cifar10/train/truck'),\n",
       " PosixPath('fastai/data/cifar10/train/bird'),\n",
       " PosixPath('fastai/data/cifar10/train/dog'),\n",
       " PosixPath('fastai/data/cifar10/train/frog')]"
      ]
     },
     "execution_count": 44,
     "metadata": {},
     "output_type": "execute_result"
    }
   ],
   "source": [
    "list(PATH_TRN.iterdir())"
   ]
  },
  {
   "cell_type": "code",
   "execution_count": 45,
   "metadata": {},
   "outputs": [],
   "source": [
    "# Constants\n",
    "classes = ('automobile', 'airplane', 'cat', 'deer', 'ship', 'horse', 'truck', 'bird', 'dog', 'frog')\n",
    "stats = (np.array([ 0.4914 ,  0.48216,  0.44653]), np.array([ 0.24703,  0.24349,  0.26159]))"
   ]
  },
  {
   "cell_type": "code",
   "execution_count": 46,
   "metadata": {},
   "outputs": [],
   "source": [
    "cls2idx = {c:i for i,c in enumerate(classes)}\n",
    "idx2cls = {i:c for i,c in enumerate(classes)}\n"
   ]
  },
  {
   "cell_type": "code",
   "execution_count": 49,
   "metadata": {},
   "outputs": [
    {
     "data": {
      "text/plain": [
       "9"
      ]
     },
     "execution_count": 49,
     "metadata": {},
     "output_type": "execute_result"
    }
   ],
   "source": [
    "cls2idx['frog']"
   ]
  },
  {
   "cell_type": "code",
   "execution_count": 48,
   "metadata": {},
   "outputs": [
    {
     "data": {
      "text/plain": [
       "'deer'"
      ]
     },
     "execution_count": 48,
     "metadata": {},
     "output_type": "execute_result"
    }
   ],
   "source": [
    "idx2cls[3]"
   ]
  },
  {
   "cell_type": "code",
   "execution_count": 78,
   "metadata": {},
   "outputs": [],
   "source": [
    "def show_img(im, figsize=None, ax=None):\n",
    "    if not ax: fig,ax = plt.subplots(figsize=figsize)\n",
    "    ax.imshow(im)\n",
    "    ax.get_xaxis().set_visible(False)\n",
    "    ax.get_yaxis().set_visible(False)\n",
    "    return ax"
   ]
  },
  {
   "cell_type": "code",
   "execution_count": 80,
   "metadata": {},
   "outputs": [
    {
     "data": {
      "text/plain": [
       "<matplotlib.axes._subplots.AxesSubplot at 0x7f7246adde80>"
      ]
     },
     "execution_count": 80,
     "metadata": {},
     "output_type": "execute_result"
    },
    {
     "data": {
      "image/png": "[encoded data removed]",
      "text/plain": [
       "<Figure size 432x288 with 1 Axes>"
      ]
     },
     "metadata": {},
     "output_type": "display_data"
    }
   ],
   "source": [
    "show_img(get_img(4))"
   ]
  },
  {
   "cell_type": "code",
   "execution_count": 152,
   "metadata": {},
   "outputs": [],
   "source": [
    "class ResScale(DataLoader):\n",
    "    \"\"\"Scale down an image to a particular resolution\n",
    "\n",
    "    Args:\n",
    "        res_list (list): The list of resolutions to consider for training.\n",
    "        cls_list (list): The list of classes to consider for training.\n",
    "        fix_res (Boolean): The control parameter for resolution list.\n",
    "        fix_cls (Boolean): The control parameter for class list.\n",
    "    \"\"\"\n",
    "    def __init__(self,res_list, cls_list, fix_res, fix_cls):\n",
    "        self.res_list = res_list\n",
    "        self.cls_list = cls_list\n",
    "        self.fix_res = fix_res\n",
    "        self.fix_cls = fix_cls\n",
    "\n",
    "    def __call__(self):\n",
    "\n",
    "        new_img = []\n",
    "\n",
    "        if (len(self.res_list) > 0) and (self.fix_res == False) and (len(self.cls_list) > 0) and (self.fix_cls == False):\n",
    "            \n",
    "            print('You have specified a resolution list and class list but not added a fix parameter for both. The output will include only the first element of both lists')\n",
    "            \n",
    "            \"\"\"\n",
    "                Definition: If there are k resolutions with n class; this should return a single image\n",
    "                for the first resolution for the first class in respective lists\n",
    "                \n",
    "                Example: 2 resolutions [7,20] and 2 class (5 images each); \n",
    "                         output: 1 image of class1 of 7X7\n",
    "            \"\"\"\n",
    "            \n",
    "            img = get_img(self.cls_list[0])\n",
    "            m = nn.AdaptiveAvgPool2d(self.res_list[0])\n",
    "            new_img.append(m(T(img)))\n",
    "            return new_img\n",
    "            \n",
    "                \n",
    "        elif (len(self.res_list) > 0) and (self.fix_res == True) and (len(self.cls_list) > 0) and (self.fix_cls == False):\n",
    "            \n",
    "            print('You have specified a resolution list and class list but not added a fix parameter for classes. The output will include only the first element from class lists')\n",
    "            \n",
    "\n",
    "            \"\"\"\n",
    "                Definition: If there are k resolutions with n class; this should return images\n",
    "                for each resolution for the first class in respective lists\n",
    "                \n",
    "                Example: 2 resolutions [7,20] and 2 class (5 images each); \n",
    "                         output: 5 images of class1 of 7X7, 5 images of class1 of 20x20\n",
    "            \"\"\"\n",
    "             \n",
    "            for r in self.res_list:\n",
    "                    img = get_img(self.cls_list[0])\n",
    "                    m = nn.AdaptiveAvgPool2d(r)\n",
    "                    new_img.append(m(T(img)))\n",
    "            \n",
    "            return new_img \n",
    "  \n",
    "            \n",
    "            \n",
    "        elif (len(self.res_list) > 0) and (self.fix_res == False) and (len(self.cls_list) > 0) and (self.fix_cls == True):\n",
    "            \n",
    "            print('You have specified a resolution list and class list but not added a fix parameter for resolution. The output will include only the first element from resolution lists')\n",
    "            \n",
    "\n",
    "            \"\"\"\n",
    "                Definition: If there are k resolutions and n classes; this should return images\n",
    "                for first resolution for every class\n",
    "                \n",
    "                Example: 2 resolutions [7,20] and 2 class (5 images each); \n",
    "                         output: 5 images of class1 of 7X7 , 5 images of class2 of 7X7\n",
    "            \"\"\"\n",
    "            \n",
    "            for c in self.cls_list:\n",
    "                    img = get_img(c)\n",
    "                    m = nn.AdaptiveAvgPool2d(self.res_list[0])\n",
    "                    new_img.append(m(T(img)))\n",
    "            \n",
    "            return new_img   \n",
    "            \n",
    "            \n",
    "            \n",
    "        elif (len(self.res_list) > 0) and (self.fix_res == True) and (len(self.cls_list) > 0) and (self.fix_cls == True):\n",
    "\n",
    "            \n",
    "            \"\"\"\n",
    "                Definition: If there are k resolutions and n classes; this should return images sequentially\n",
    "                for every class until epoch for each resolution sequentially\n",
    "                \n",
    "                Example: 2 resolutions [7,20] and 2 class (5 images each); \n",
    "                         output: 5 images of 7X7 for class 1, 5 images of 7x7 for class 2,\n",
    "                                 5 images of 20X20 for class 1, 5 images of 20x20 for class 2\n",
    "            \"\"\"\n",
    "\n",
    "            for r in self.res_list:\n",
    "                for c in self.cls_list:\n",
    "                    img = get_img(c)\n",
    "                    m = nn.AdaptiveAvgPool2d(r)\n",
    "                    new_img.append(m(T(img)))\n",
    "            \n",
    "            return new_img\n",
    "                \n",
    "    def get_img(cls):\n",
    "        im = open_image(str(random.choice(list((PATH_TRN/idx2cls[3]).iterdir()))))\n",
    "        return im"
   ]
  },
  {
   "cell_type": "code",
   "execution_count": 84,
   "metadata": {},
   "outputs": [],
   "source": [
    "res_list = [7,11,14,20,28]"
   ]
  },
  {
   "cell_type": "code",
   "execution_count": 85,
   "metadata": {},
   "outputs": [],
   "source": [
    "cls_list = [0,4,3,5]"
   ]
  },
  {
   "cell_type": "code",
   "execution_count": 153,
   "metadata": {},
   "outputs": [],
   "source": [
    "res= ResScale(cls_list=cls_list, res_list=res_list, fix_cls=False, fix_res=True)"
   ]
  },
  {
   "cell_type": "markdown",
   "metadata": {},
   "source": [
    "\n",
    "Usage:\n",
    "\n",
    "    res[X][Y]:  The output will have appended tensors in X and a batch of 32/bs in Y\n",
    "                X will depend upon the choice of fix parameter and can be a max of len(res_list)*len(cls_list)\n"
   ]
  }
 ],
 "metadata": {
  "kernelspec": {
   "display_name": "Python 3",
   "language": "python",
   "name": "python3"
  },
  "language_info": {
   "codemirror_mode": {
    "name": "ipython",
    "version": 3
   },
   "file_extension": ".py",
   "mimetype": "text/x-python",
   "name": "python",
   "nbconvert_exporter": "python",
   "pygments_lexer": "ipython3",
   "version": "3.6.5"
  }
 },
 "nbformat": 4,
 "nbformat_minor": 2
}
