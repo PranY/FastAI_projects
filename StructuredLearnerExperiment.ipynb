{
 "cells": [
  {
   "cell_type": "code",
   "execution_count": 75,
   "metadata": {},
   "outputs": [],
   "source": [
    "import pandas as pd\n",
    "import numpy as np\n",
    "\n",
    "import warnings\n",
    "warnings.filterwarnings('ignore')\n",
    "import pdb"
   ]
  },
  {
   "cell_type": "code",
   "execution_count": 2,
   "metadata": {},
   "outputs": [],
   "source": [
    "from fastai.structured import *\n",
    "from fastai.column_data import *\n",
    "import pandas as pd\n",
    "from torch.nn import functional as F"
   ]
  },
  {
   "cell_type": "code",
   "execution_count": 3,
   "metadata": {},
   "outputs": [],
   "source": [
    "torch.cuda.set_device(0)"
   ]
  },
  {
   "cell_type": "code",
   "execution_count": 4,
   "metadata": {},
   "outputs": [],
   "source": [
    "df = pd.read_csv('sample.csv')"
   ]
  },
  {
   "cell_type": "code",
   "execution_count": 5,
   "metadata": {},
   "outputs": [
    {
     "data": {
      "text/plain": [
       "(10000, 126)"
      ]
     },
     "execution_count": 5,
     "metadata": {},
     "output_type": "execute_result"
    }
   ],
   "source": [
    "df.shape"
   ]
  },
  {
   "cell_type": "code",
   "execution_count": 33,
   "metadata": {},
   "outputs": [
    {
     "data": {
      "text/html": [
       "<div>\n",
       "<style scoped>\n",
       "    .dataframe tbody tr th:only-of-type {\n",
       "        vertical-align: middle;\n",
       "    }\n",
       "\n",
       "    .dataframe tbody tr th {\n",
       "        vertical-align: top;\n",
       "    }\n",
       "\n",
       "    .dataframe thead th {\n",
       "        text-align: right;\n",
       "    }\n",
       "</style>\n",
       "<table border=\"1\" class=\"dataframe\">\n",
       "  <thead>\n",
       "    <tr style=\"text-align: right;\">\n",
       "      <th></th>\n",
       "      <th>Feature_0</th>\n",
       "      <th>Feature_1</th>\n",
       "      <th>Feature_2</th>\n",
       "      <th>Feature_3</th>\n",
       "      <th>Feature_4</th>\n",
       "      <th>Feature_5</th>\n",
       "      <th>Feature_6</th>\n",
       "      <th>Feature_7</th>\n",
       "      <th>Feature_8</th>\n",
       "      <th>Feature_9</th>\n",
       "      <th>...</th>\n",
       "      <th>Feature_116</th>\n",
       "      <th>Feature_117</th>\n",
       "      <th>Feature_118</th>\n",
       "      <th>Feature_119</th>\n",
       "      <th>Feature_120</th>\n",
       "      <th>Feature_121</th>\n",
       "      <th>Feature_122</th>\n",
       "      <th>Feature_123</th>\n",
       "      <th>Feature_124</th>\n",
       "      <th>TARGET</th>\n",
       "    </tr>\n",
       "  </thead>\n",
       "  <tbody>\n",
       "    <tr>\n",
       "      <th>0</th>\n",
       "      <td>1</td>\n",
       "      <td>6</td>\n",
       "      <td>7</td>\n",
       "      <td>4</td>\n",
       "      <td>3</td>\n",
       "      <td>8</td>\n",
       "      <td>6</td>\n",
       "      <td>5</td>\n",
       "      <td>-9461</td>\n",
       "      <td>0.014400</td>\n",
       "      <td>...</td>\n",
       "      <td>0.0</td>\n",
       "      <td>0.000</td>\n",
       "      <td>45.0</td>\n",
       "      <td>0.000</td>\n",
       "      <td>0</td>\n",
       "      <td>0.0</td>\n",
       "      <td>0.0</td>\n",
       "      <td>0.00</td>\n",
       "      <td>0.0</td>\n",
       "      <td>1</td>\n",
       "    </tr>\n",
       "    <tr>\n",
       "      <th>1</th>\n",
       "      <td>0</td>\n",
       "      <td>1</td>\n",
       "      <td>4</td>\n",
       "      <td>1</td>\n",
       "      <td>1</td>\n",
       "      <td>3</td>\n",
       "      <td>1</td>\n",
       "      <td>39</td>\n",
       "      <td>-16765</td>\n",
       "      <td>0.049700</td>\n",
       "      <td>...</td>\n",
       "      <td>0.0</td>\n",
       "      <td>0.000</td>\n",
       "      <td>10.0</td>\n",
       "      <td>113.130</td>\n",
       "      <td>0</td>\n",
       "      <td>0.0</td>\n",
       "      <td>0.0</td>\n",
       "      <td>0.00</td>\n",
       "      <td>0.0</td>\n",
       "      <td>0</td>\n",
       "    </tr>\n",
       "    <tr>\n",
       "      <th>2</th>\n",
       "      <td>1</td>\n",
       "      <td>6</td>\n",
       "      <td>7</td>\n",
       "      <td>4</td>\n",
       "      <td>3</td>\n",
       "      <td>8</td>\n",
       "      <td>1</td>\n",
       "      <td>11</td>\n",
       "      <td>-19046</td>\n",
       "      <td>0.042553</td>\n",
       "      <td>...</td>\n",
       "      <td>0.0</td>\n",
       "      <td>0.000</td>\n",
       "      <td>49.0</td>\n",
       "      <td>1561.590</td>\n",
       "      <td>0</td>\n",
       "      <td>0.0</td>\n",
       "      <td>0.0</td>\n",
       "      <td>1401.39</td>\n",
       "      <td>1350.0</td>\n",
       "      <td>0</td>\n",
       "    </tr>\n",
       "    <tr>\n",
       "      <th>3</th>\n",
       "      <td>0</td>\n",
       "      <td>6</td>\n",
       "      <td>7</td>\n",
       "      <td>4</td>\n",
       "      <td>0</td>\n",
       "      <td>8</td>\n",
       "      <td>6</td>\n",
       "      <td>5</td>\n",
       "      <td>-19005</td>\n",
       "      <td>0.042553</td>\n",
       "      <td>...</td>\n",
       "      <td>0.0</td>\n",
       "      <td>-4.455</td>\n",
       "      <td>48.0</td>\n",
       "      <td>4.455</td>\n",
       "      <td>0</td>\n",
       "      <td>0.0</td>\n",
       "      <td>0.0</td>\n",
       "      <td>0.00</td>\n",
       "      <td>0.0</td>\n",
       "      <td>0</td>\n",
       "    </tr>\n",
       "    <tr>\n",
       "      <th>4</th>\n",
       "      <td>1</td>\n",
       "      <td>6</td>\n",
       "      <td>7</td>\n",
       "      <td>4</td>\n",
       "      <td>3</td>\n",
       "      <td>3</td>\n",
       "      <td>4</td>\n",
       "      <td>37</td>\n",
       "      <td>-19932</td>\n",
       "      <td>0.042553</td>\n",
       "      <td>...</td>\n",
       "      <td>0.0</td>\n",
       "      <td>0.000</td>\n",
       "      <td>7.0</td>\n",
       "      <td>513.000</td>\n",
       "      <td>0</td>\n",
       "      <td>0.0</td>\n",
       "      <td>0.0</td>\n",
       "      <td>0.00</td>\n",
       "      <td>0.0</td>\n",
       "      <td>0</td>\n",
       "    </tr>\n",
       "  </tbody>\n",
       "</table>\n",
       "<p>5 rows × 126 columns</p>\n",
       "</div>"
      ],
      "text/plain": [
       "   Feature_0   Feature_1   Feature_2   Feature_3   Feature_4   Feature_5   \\\n",
       "0           1           6           7           4           3           8   \n",
       "1           0           1           4           1           1           3   \n",
       "2           1           6           7           4           3           8   \n",
       "3           0           6           7           4           0           8   \n",
       "4           1           6           7           4           3           3   \n",
       "\n",
       "   Feature_6   Feature_7   Feature_8   Feature_9    ...    Feature_116   \\\n",
       "0           6           5       -9461    0.014400   ...             0.0   \n",
       "1           1          39      -16765    0.049700   ...             0.0   \n",
       "2           1          11      -19046    0.042553   ...             0.0   \n",
       "3           6           5      -19005    0.042553   ...             0.0   \n",
       "4           4          37      -19932    0.042553   ...             0.0   \n",
       "\n",
       "   Feature_117   Feature_118   Feature_119   Feature_120   Feature_121   \\\n",
       "0         0.000          45.0         0.000             0           0.0   \n",
       "1         0.000          10.0       113.130             0           0.0   \n",
       "2         0.000          49.0      1561.590             0           0.0   \n",
       "3        -4.455          48.0         4.455             0           0.0   \n",
       "4         0.000           7.0       513.000             0           0.0   \n",
       "\n",
       "   Feature_122   Feature_123   Feature_124   TARGET  \n",
       "0           0.0          0.00           0.0       1  \n",
       "1           0.0          0.00           0.0       0  \n",
       "2           0.0       1401.39        1350.0       0  \n",
       "3           0.0          0.00           0.0       0  \n",
       "4           0.0          0.00           0.0       0  \n",
       "\n",
       "[5 rows x 126 columns]"
      ]
     },
     "execution_count": 33,
     "metadata": {},
     "output_type": "execute_result"
    }
   ],
   "source": [
    "df.head()"
   ]
  },
  {
   "cell_type": "code",
   "execution_count": 24,
   "metadata": {},
   "outputs": [],
   "source": [
    "# Since this is just a proof of concept exercise, we will randomly choose the categorical and continuous vars "
   ]
  },
  {
   "cell_type": "code",
   "execution_count": 40,
   "metadata": {},
   "outputs": [],
   "source": [
    "cat_vars = ['Feature_0 ', 'Feature_1 ', 'Feature_2 ', 'Feature_3 ', 'Feature_4 ', 'Feature_5 ', 'Feature_6 ', 'Feature_7 ', 'Feature_8 ', 'Feature_9 ', 'Feature_10 ', 'Feature_11 ', 'Feature_12 ', 'Feature_13 ', 'Feature_14 ', 'Feature_15 ', 'Feature_16 ', 'Feature_17 ', 'Feature_18 ', 'Feature_19 ', 'Feature_20 ', 'Feature_21 ', 'Feature_22 ', 'Feature_23 ', 'Feature_24 ', 'Feature_25 ', 'Feature_26 ', 'Feature_27 ', 'Feature_28 ', 'Feature_29 ', 'Feature_30 ', 'Feature_31 ', 'Feature_32 ', 'Feature_33 ', 'Feature_34 ', 'Feature_35 ', 'Feature_36 ', 'Feature_37 ', 'Feature_38 ', 'Feature_39 ', 'Feature_40 ', 'Feature_41 ', 'Feature_42 ', 'Feature_43 ', 'Feature_44 ', 'Feature_45 ', 'Feature_46 ', 'Feature_47 ', 'Feature_48 ', 'Feature_49 ', 'Feature_50 ']\n",
    "contin_vars = ['Feature_51 ', 'Feature_52 ', 'Feature_53 ', 'Feature_54 ', 'Feature_55 ', 'Feature_56 ', 'Feature_57 ', 'Feature_58 ', 'Feature_59 ', 'Feature_60 ', 'Feature_61 ', 'Feature_62 ', 'Feature_63 ', 'Feature_64 ', 'Feature_65 ', 'Feature_66 ', 'Feature_67 ', 'Feature_68 ', 'Feature_69 ', 'Feature_70 ', 'Feature_71 ', 'Feature_72 ', 'Feature_73 ', 'Feature_74 ', 'Feature_75 ', 'Feature_76 ', 'Feature_77 ', 'Feature_78 ', 'Feature_79 ', 'Feature_80 ', 'Feature_81 ', 'Feature_82 ', 'Feature_83 ', 'Feature_84 ', 'Feature_85 ', 'Feature_86 ', 'Feature_87 ', 'Feature_88 ', 'Feature_89 ', 'Feature_90 ', 'Feature_91 ', 'Feature_92 ', 'Feature_93 ', 'Feature_94 ', 'Feature_95 ', 'Feature_96 ', 'Feature_97 ', 'Feature_98 ', 'Feature_99 ', 'Feature_100 ', 'Feature_101 ', 'Feature_102 ', 'Feature_103 ', 'Feature_104 ', 'Feature_105 ', 'Feature_106 ', 'Feature_107 ', 'Feature_108 ', 'Feature_109 ', 'Feature_110 ', 'Feature_111 ', 'Feature_112 ', 'Feature_113 ', 'Feature_114 ', 'Feature_115 ', 'Feature_116 ', 'Feature_117 ', 'Feature_118 ', 'Feature_119 ', 'Feature_120 ', 'Feature_121 ', 'Feature_122 ', 'Feature_123 ', 'Feature_124 ']"
   ]
  },
  {
   "cell_type": "code",
   "execution_count": 41,
   "metadata": {},
   "outputs": [],
   "source": [
    "dep = 'TARGET'\n",
    "df = df[cat_vars+contin_vars+[dep]].copy()"
   ]
  },
  {
   "cell_type": "code",
   "execution_count": 49,
   "metadata": {},
   "outputs": [],
   "source": [
    "for c in cat_vars:\n",
    "    df[c] = df[c].astype('category').cat.as_ordered()"
   ]
  },
  {
   "cell_type": "code",
   "execution_count": 43,
   "metadata": {},
   "outputs": [],
   "source": [
    "for v in contin_vars:\n",
    "    df[v] = df[v].fillna(0).astype('float32')"
   ]
  },
  {
   "cell_type": "code",
   "execution_count": 44,
   "metadata": {},
   "outputs": [],
   "source": [
    "df, y, nas, mapper = proc_df(df, 'TARGET', do_scale=True)"
   ]
  },
  {
   "cell_type": "code",
   "execution_count": 45,
   "metadata": {},
   "outputs": [],
   "source": [
    "train_ratio = 0.75\n",
    "train_size = int(len(df) * train_ratio); train_size\n",
    "val_idx = list(range(train_size, len(df)))"
   ]
  },
  {
   "cell_type": "markdown",
   "metadata": {},
   "source": [
    "## is_reg = False and is_multi = False"
   ]
  },
  {
   "cell_type": "markdown",
   "metadata": {},
   "source": [
    "This means that the last layer operation is Log_softmax(x) and m.crit is nll_loss\n",
    "\n",
    "In case there are more than 2 classes (multi-class), we will change the out_sz to (N,C).\n",
    "\n",
    "To test this, we can simply add a random new class in the target variable, change the out size and run again. Please try this to understand it better!"
   ]
  },
  {
   "cell_type": "code",
   "execution_count": 47,
   "metadata": {},
   "outputs": [],
   "source": [
    "md = ColumnarModelData.from_data_frame('', val_idx, df, y.astype('int'), cat_flds=cat_vars, bs=512,\n",
    "                                       is_reg=False,is_multi=False)"
   ]
  },
  {
   "cell_type": "code",
   "execution_count": 50,
   "metadata": {},
   "outputs": [],
   "source": [
    "cat_sz = [(c, len(df[c].cat.categories)+1) for c in cat_vars]"
   ]
  },
  {
   "cell_type": "code",
   "execution_count": 51,
   "metadata": {},
   "outputs": [],
   "source": [
    "emb_szs = [(c, min(50, (c+1)//2)) for _,c in cat_sz]"
   ]
  },
  {
   "cell_type": "code",
   "execution_count": 53,
   "metadata": {},
   "outputs": [],
   "source": [
    "m = md.get_learner(emb_szs, len(df.columns)-len(cat_vars),\n",
    "                   0.01, 2, [500,100], [0.01,0.1])"
   ]
  },
  {
   "cell_type": "code",
   "execution_count": 54,
   "metadata": {},
   "outputs": [
    {
     "data": {
      "text/plain": [
       "<function torch.nn.functional.nll_loss(input, target, weight=None, size_average=True, ignore_index=-100, reduce=True)>"
      ]
     },
     "execution_count": 54,
     "metadata": {},
     "output_type": "execute_result"
    }
   ],
   "source": [
    "m.crit"
   ]
  },
  {
   "cell_type": "code",
   "execution_count": 56,
   "metadata": {},
   "outputs": [],
   "source": [
    "# Verified that the m.crit is nll_loss and as per its definition\n",
    "# in pytorch documentationm we are providing the output size as (N,2)"
   ]
  },
  {
   "cell_type": "code",
   "execution_count": 57,
   "metadata": {},
   "outputs": [
    {
     "data": {
      "application/vnd.jupyter.widget-view+json": {
       "model_id": "a0b69606e5d64c4fb042a9e8de79bfa4",
       "version_major": 2,
       "version_minor": 0
      },
      "text/plain": [
       "HBox(children=(IntProgress(value=0, description='Epoch', max=1), HTML(value='')))"
      ]
     },
     "metadata": {},
     "output_type": "display_data"
    },
    {
     "name": "stdout",
     "output_type": "stream",
     "text": [
      "epoch      trn_loss   val_loss                            \n",
      "    0      5.806703   47925.233931\n",
      "\n"
     ]
    }
   ],
   "source": [
    "m.lr_find()"
   ]
  },
  {
   "cell_type": "code",
   "execution_count": 58,
   "metadata": {},
   "outputs": [
    {
     "data": {
      "image/png": "[encoded data removed]",
      "text/plain": [
       "<Figure size 432x288 with 1 Axes>"
      ]
     },
     "metadata": {},
     "output_type": "display_data"
    }
   ],
   "source": [
    "m.sched.plot(1)"
   ]
  },
  {
   "cell_type": "code",
   "execution_count": 61,
   "metadata": {},
   "outputs": [
    {
     "data": {
      "application/vnd.jupyter.widget-view+json": {
       "model_id": "7cfeac6e2ffa48739119489815acc0c0",
       "version_major": 2,
       "version_minor": 0
      },
      "text/plain": [
       "HBox(children=(IntProgress(value=0, description='Epoch', max=3), HTML(value='')))"
      ]
     },
     "metadata": {},
     "output_type": "display_data"
    },
    {
     "name": "stdout",
     "output_type": "stream",
     "text": [
      "epoch      trn_loss   val_loss                             \n",
      "    0      0.646367   0.640616  \n",
      "    1      0.633209   0.611654                             \n",
      "    2      0.621421   0.605077                            \n",
      "\n"
     ]
    },
    {
     "data": {
      "text/plain": [
       "[0.6050767470359802]"
      ]
     },
     "execution_count": 61,
     "metadata": {},
     "output_type": "execute_result"
    }
   ],
   "source": [
    "m.fit(1e-5, n_cycle=2, cycle_len=1, cycle_mult=2)"
   ]
  },
  {
   "cell_type": "code",
   "execution_count": 62,
   "metadata": {},
   "outputs": [
    {
     "data": {
      "image/png": "[encoded data removed]",
      "text/plain": [
       "<Figure size 432x288 with 1 Axes>"
      ]
     },
     "metadata": {},
     "output_type": "display_data"
    }
   ],
   "source": [
    "m.sched.plot_loss()"
   ]
  },
  {
   "cell_type": "code",
   "execution_count": 63,
   "metadata": {},
   "outputs": [
    {
     "data": {
      "image/png": "[encoded data removed]",
      "text/plain": [
       "<Figure size 432x288 with 1 Axes>"
      ]
     },
     "metadata": {},
     "output_type": "display_data"
    }
   ],
   "source": [
    "m.sched.plot_lr()"
   ]
  },
  {
   "cell_type": "markdown",
   "metadata": {},
   "source": [
    "## is_reg = False and is_multi = True"
   ]
  },
  {
   "cell_type": "markdown",
   "metadata": {},
   "source": [
    "This means that the last layer operation is Sigmoid(x) and m.crit is BCE"
   ]
  },
  {
   "cell_type": "code",
   "execution_count": 69,
   "metadata": {},
   "outputs": [],
   "source": [
    "md = ColumnarModelData.from_data_frame('', val_idx, df, y.astype(np.float32), cat_flds=cat_vars, bs=512,\n",
    "                                       is_reg=False,is_multi=True)"
   ]
  },
  {
   "cell_type": "code",
   "execution_count": 70,
   "metadata": {},
   "outputs": [],
   "source": [
    "cat_sz = [(c, len(df[c].cat.categories)+1) for c in cat_vars]"
   ]
  },
  {
   "cell_type": "code",
   "execution_count": 71,
   "metadata": {},
   "outputs": [],
   "source": [
    "emb_szs = [(c, min(50, (c+1)//2)) for _,c in cat_sz]"
   ]
  },
  {
   "cell_type": "code",
   "execution_count": 72,
   "metadata": {},
   "outputs": [],
   "source": [
    "m = md.get_learner(emb_szs, len(df.columns)-len(cat_vars),\n",
    "                   0.01, 1, [500,100], [0.01,0.1])"
   ]
  },
  {
   "cell_type": "code",
   "execution_count": 73,
   "metadata": {},
   "outputs": [
    {
     "data": {
      "text/plain": [
       "<function torch.nn.functional.binary_cross_entropy(input, target, weight=None, size_average=True, reduce=True)>"
      ]
     },
     "execution_count": 73,
     "metadata": {},
     "output_type": "execute_result"
    }
   ],
   "source": [
    "m.crit"
   ]
  },
  {
   "cell_type": "code",
   "execution_count": 56,
   "metadata": {},
   "outputs": [],
   "source": [
    "# Verified that the m.crit is BCE and as per its definition\n",
    "# in pytorch documentationm we are providing the output size as (N,1)"
   ]
  },
  {
   "cell_type": "code",
   "execution_count": 76,
   "metadata": {},
   "outputs": [
    {
     "data": {
      "application/vnd.jupyter.widget-view+json": {
       "model_id": "c819866b56414e91ba11ff6c6282732c",
       "version_major": 2,
       "version_minor": 0
      },
      "text/plain": [
       "HBox(children=(IntProgress(value=0, description='Epoch', max=1), HTML(value='')))"
      ]
     },
     "metadata": {},
     "output_type": "display_data"
    },
    {
     "name": "stdout",
     "output_type": "stream",
     "text": [
      " 47%|████▋     | 7/15 [00:00<00:00, 34.17it/s, loss=2.76] \n",
      "                                                         \r"
     ]
    }
   ],
   "source": [
    "m.lr_find()"
   ]
  },
  {
   "cell_type": "code",
   "execution_count": 77,
   "metadata": {},
   "outputs": [
    {
     "data": {
      "image/png": "[encoded data removed]",
      "text/plain": [
       "<Figure size 432x288 with 1 Axes>"
      ]
     },
     "metadata": {},
     "output_type": "display_data"
    }
   ],
   "source": [
    "m.sched.plot(1)"
   ]
  },
  {
   "cell_type": "code",
   "execution_count": 78,
   "metadata": {},
   "outputs": [
    {
     "data": {
      "application/vnd.jupyter.widget-view+json": {
       "model_id": "d3aa6e4944ec4fb3b693f37dd055a364",
       "version_major": 2,
       "version_minor": 0
      },
      "text/plain": [
       "HBox(children=(IntProgress(value=0, description='Epoch', max=3), HTML(value='')))"
      ]
     },
     "metadata": {},
     "output_type": "display_data"
    },
    {
     "name": "stdout",
     "output_type": "stream",
     "text": [
      "epoch      trn_loss   val_loss                             \n",
      "    0      0.64215    0.635232  \n",
      "    1      0.631108   0.608415                             \n",
      "    2      0.619723   0.602322                            \n",
      "\n"
     ]
    },
    {
     "data": {
      "text/plain": [
       "[0.6023215309143066]"
      ]
     },
     "execution_count": 78,
     "metadata": {},
     "output_type": "execute_result"
    }
   ],
   "source": [
    "m.fit(1e-5, n_cycle=2, cycle_len=1, cycle_mult=2)"
   ]
  },
  {
   "cell_type": "code",
   "execution_count": 79,
   "metadata": {},
   "outputs": [
    {
     "data": {
      "image/png": "[encoded data removed]",
      "text/plain": [
       "<Figure size 432x288 with 1 Axes>"
      ]
     },
     "metadata": {},
     "output_type": "display_data"
    }
   ],
   "source": [
    "m.sched.plot_loss()"
   ]
  },
  {
   "cell_type": "code",
   "execution_count": 80,
   "metadata": {},
   "outputs": [
    {
     "data": {
      "image/png": "[encoded data removed]",
      "text/plain": [
       "<Figure size 432x288 with 1 Axes>"
      ]
     },
     "metadata": {},
     "output_type": "display_data"
    }
   ],
   "source": [
    "m.sched.plot_lr()"
   ]
  },
  {
   "cell_type": "code",
   "execution_count": null,
   "metadata": {},
   "outputs": [],
   "source": []
  },
  {
   "cell_type": "markdown",
   "metadata": {},
   "source": [
    "## is_reg = True"
   ]
  },
  {
   "cell_type": "markdown",
   "metadata": {},
   "source": [
    "We are not working out this example here as it is clearly described in rossman notebook."
   ]
  },
  {
   "cell_type": "code",
   "execution_count": null,
   "metadata": {},
   "outputs": [],
   "source": [
    "This was a reply on the forum which really helped me understand the flow of the forward pass in the MixeInputModel\n",
    "\n",
    "If not regression:\n",
    "    If more than 1 class could be present for an observation:\n",
    "        Use sigmoid\n",
    "    Else only one class per observation:\n",
    "        Use softmax\n",
    "\n",
    "Else If regression and if a range is provided:\n",
    "     Constrain the predictions be within the max and min of y_range\n",
    "\n",
    "Otherwise, end with a linear activation"
   ]
  },
  {
   "cell_type": "code",
   "execution_count": null,
   "metadata": {},
   "outputs": [],
   "source": []
  }
 ],
 "metadata": {
  "kernelspec": {
   "display_name": "Python 3",
   "language": "python",
   "name": "python3"
  },
  "language_info": {
   "codemirror_mode": {
    "name": "ipython",
    "version": 3
   },
   "file_extension": ".py",
   "mimetype": "text/x-python",
   "name": "python",
   "nbconvert_exporter": "python",
   "pygments_lexer": "ipython3",
   "version": "3.6.6"
  }
 },
 "nbformat": 4,
 "nbformat_minor": 2
}
